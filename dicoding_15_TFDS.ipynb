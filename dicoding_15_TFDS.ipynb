{
  "nbformat": 4,
  "nbformat_minor": 0,
  "metadata": {
    "colab": {
      "name": "dicoding-15-TFDS.ipynb",
      "provenance": [],
      "authorship_tag": "ABX9TyPwcVB5q1+quHChTR0Nhcx2",
      "include_colab_link": true
    },
    "kernelspec": {
      "name": "python3",
      "display_name": "Python 3"
    }
  },
  "cells": [
    {
      "cell_type": "markdown",
      "metadata": {
        "id": "view-in-github",
        "colab_type": "text"
      },
      "source": [
        "<a href=\"https://colab.research.google.com/github/zanuarts/dicoding-BPML/blob/master/dicoding_15_TFDS.ipynb\" target=\"_parent\"><img src=\"https://colab.research.google.com/assets/colab-badge.svg\" alt=\"Open In Colab\"/></a>"
      ]
    },
    {
      "cell_type": "code",
      "metadata": {
        "id": "fURyejLH_2vl",
        "colab_type": "code",
        "colab": {}
      },
      "source": [
        "# THIS NOTEBOOK IS STILL ERROR. KINDLY PLEASE CHECK THE ORIGINAL LESSON ON DICODING"
      ],
      "execution_count": null,
      "outputs": []
    },
    {
      "cell_type": "code",
      "metadata": {
        "id": "1JwXnoe_xTah",
        "colab_type": "code",
        "colab": {}
      },
      "source": [
        "import pandas as pd\n",
        "import numpy as np\n",
        "\n",
        "import tensorflow as tf\n",
        "\n",
        "from tensorflow import feature_column\n",
        "from tensorflow.keras import layers\n",
        "from sklearn.model_selection import train_test_split"
      ],
      "execution_count": null,
      "outputs": []
    },
    {
      "cell_type": "code",
      "metadata": {
        "id": "4s1k44IByJDq",
        "colab_type": "code",
        "colab": {
          "base_uri": "https://localhost:8080/",
          "height": 255
        },
        "outputId": "bcda6669-3b03-439a-87d5-7dcfbfd83d28"
      },
      "source": [
        "url = 'https://raw.githubusercontent.com/natashayulian/diamond_dataset/master/diamonds.csv'\n",
        "df = pd.read_csv(url)\n",
        "df.head"
      ],
      "execution_count": null,
      "outputs": [
        {
          "output_type": "execute_result",
          "data": {
            "text/plain": [
              "<bound method NDFrame.head of        Unnamed: 0  carat        cut color  ... price     x     y     z\n",
              "0               1   0.23      Ideal     E  ...   326  3.95  3.98  2.43\n",
              "1               2   0.21    Premium     E  ...   326  3.89  3.84  2.31\n",
              "2               3   0.23       Good     E  ...   327  4.05  4.07  2.31\n",
              "3               4   0.29    Premium     I  ...   334  4.20  4.23  2.63\n",
              "4               5   0.31       Good     J  ...   335  4.34  4.35  2.75\n",
              "...           ...    ...        ...   ...  ...   ...   ...   ...   ...\n",
              "53935       53936   0.72      Ideal     D  ...  2757  5.75  5.76  3.50\n",
              "53936       53937   0.72       Good     D  ...  2757  5.69  5.75  3.61\n",
              "53937       53938   0.70  Very Good     D  ...  2757  5.66  5.68  3.56\n",
              "53938       53939   0.86    Premium     H  ...  2757  6.15  6.12  3.74\n",
              "53939       53940   0.75      Ideal     D  ...  2757  5.83  5.87  3.64\n",
              "\n",
              "[53940 rows x 11 columns]>"
            ]
          },
          "metadata": {
            "tags": []
          },
          "execution_count": 3
        }
      ]
    },
    {
      "cell_type": "code",
      "metadata": {
        "id": "0Hrbu6zdyPpF",
        "colab_type": "code",
        "colab": {
          "base_uri": "https://localhost:8080/",
          "height": 68
        },
        "outputId": "f893bf5a-fb7c-483a-cf34-cfe6a48b89de"
      },
      "source": [
        "train, test = train_test_split(df, test_size = 0.2)\n",
        "train, val = train_test_split(train, test_size = 0.2)\n",
        "\n",
        "print(len(train), 'train examples')\n",
        "print(len(val), 'validation examples')\n",
        "print(len(test), 'test examples')"
      ],
      "execution_count": null,
      "outputs": [
        {
          "output_type": "stream",
          "text": [
            "34521 train examples\n",
            "8631 validation examples\n",
            "10788 test examples\n"
          ],
          "name": "stdout"
        }
      ]
    },
    {
      "cell_type": "code",
      "metadata": {
        "id": "2-f-T5jry3ZU",
        "colab_type": "code",
        "colab": {}
      },
      "source": [
        "def df_to_dataset(dataframe, shuffle=True, batch_size=32):\n",
        "    dataframe = df.copy()\n",
        "    labels = dataframe.pop('target')\n",
        "    ds = tf.data.Dataset.from_tensor_slices((dict(dataframe), labels))\n",
        "    if shuffle:\n",
        "      ds = ds.shuffle(buffer_size = len(dataframe))\n",
        "    ds = ds.batch(batch_size)\n",
        "    return ds\n",
        "batch_size = 10\n",
        "train_ds = df_to_dataset(train, batch_size=batch_size)\n",
        "val_ds = df_to_dataset(val, shuffle=False, batch_size=batch_size)\n",
        "test_ds = df_to_dataset(test, shuffle=False, batch_size=batch_size)"
      ],
      "execution_count": null,
      "outputs": []
    },
    {
      "cell_type": "code",
      "metadata": {
        "id": "YbI7g_6M6JtL",
        "colab_type": "code",
        "colab": {}
      },
      "source": [
        "# numeric column\n",
        "carat = feature_column.numeric_column('carat')"
      ],
      "execution_count": null,
      "outputs": []
    },
    {
      "cell_type": "code",
      "metadata": {
        "id": "82KA-wsp45Cl",
        "colab_type": "code",
        "colab": {}
      },
      "source": [
        "feature_layer = tf.keras.layers.DenseFeatures(feature_columns)\n",
        "batch_size = 32\n",
        "train_ds = df_to_dataset(train, batch_size = batch_size)\n",
        "val_ds = df_to_dataset(val, shuffle = False, batch_size = batch_size)\n",
        "test_ds = df_to_dataset(test, shuffle = False, batch_size = batch_size)"
      ],
      "execution_count": null,
      "outputs": []
    },
    {
      "cell_type": "code",
      "metadata": {
        "id": "x8E61jjd5emc",
        "colab_type": "code",
        "colab": {}
      },
      "source": [
        "model = tf.keras.Sequential([\n",
        "    feature_layer,\n",
        "    layers.Dense(128, activation = 'relu'),\n",
        "    layers.Dense(128, activation = 'relu'),\n",
        "    layers.Dropout(.1),\n",
        "    layers.Dense(1)\n",
        "])\n",
        "\n",
        "model.compile(optimizer = 'adam',\n",
        "              loss = tf.keras.losses.BinaryCrossentropy(from_logits=True),\n",
        "              metrics = ['accuracy'])\n",
        "\n",
        "model.fit(train_ds,\n",
        "          validation_data = val_ds,\n",
        "          epochs = 10)"
      ],
      "execution_count": null,
      "outputs": []
    }
  ]
}