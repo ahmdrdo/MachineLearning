{
  "nbformat": 4,
  "nbformat_minor": 0,
  "metadata": {
    "colab": {
      "name": "dicoding-17-LastSubmission.ipynb",
      "provenance": [],
      "authorship_tag": "ABX9TyPcmihly238JGOP/XXNNMuU",
      "include_colab_link": true
    },
    "kernelspec": {
      "name": "python3",
      "display_name": "Python 3"
    },
    "widgets": {
      "application/vnd.jupyter.widget-state+json": {
        "ce2ad4b208de4a96a12d80a055619cd0": {
          "model_module": "@jupyter-widgets/controls",
          "model_name": "HBoxModel",
          "state": {
            "_view_name": "HBoxView",
            "_dom_classes": [],
            "_model_name": "HBoxModel",
            "_view_module": "@jupyter-widgets/controls",
            "_model_module_version": "1.5.0",
            "_view_count": null,
            "_view_module_version": "1.5.0",
            "box_style": "",
            "layout": "IPY_MODEL_aab376979d894eb291bbcceae9974c47",
            "_model_module": "@jupyter-widgets/controls",
            "children": [
              "IPY_MODEL_d920340888444f87be8712313014bbfd",
              "IPY_MODEL_53f22fb2c06741868ad904e04d6863ec"
            ]
          }
        },
        "aab376979d894eb291bbcceae9974c47": {
          "model_module": "@jupyter-widgets/base",
          "model_name": "LayoutModel",
          "state": {
            "_view_name": "LayoutView",
            "grid_template_rows": null,
            "right": null,
            "justify_content": null,
            "_view_module": "@jupyter-widgets/base",
            "overflow": null,
            "_model_module_version": "1.2.0",
            "_view_count": null,
            "flex_flow": null,
            "width": null,
            "min_width": null,
            "border": null,
            "align_items": null,
            "bottom": null,
            "_model_module": "@jupyter-widgets/base",
            "top": null,
            "grid_column": null,
            "overflow_y": null,
            "overflow_x": null,
            "grid_auto_flow": null,
            "grid_area": null,
            "grid_template_columns": null,
            "flex": null,
            "_model_name": "LayoutModel",
            "justify_items": null,
            "grid_row": null,
            "max_height": null,
            "align_content": null,
            "visibility": null,
            "align_self": null,
            "height": null,
            "min_height": null,
            "padding": null,
            "grid_auto_rows": null,
            "grid_gap": null,
            "max_width": null,
            "order": null,
            "_view_module_version": "1.2.0",
            "grid_template_areas": null,
            "object_position": null,
            "object_fit": null,
            "grid_auto_columns": null,
            "margin": null,
            "display": null,
            "left": null
          }
        },
        "d920340888444f87be8712313014bbfd": {
          "model_module": "@jupyter-widgets/controls",
          "model_name": "FloatProgressModel",
          "state": {
            "_view_name": "ProgressView",
            "style": "IPY_MODEL_3056b8dd28a34287a205504c2d593d31",
            "_dom_classes": [],
            "description": "",
            "_model_name": "FloatProgressModel",
            "bar_style": "success",
            "max": 1,
            "_view_module": "@jupyter-widgets/controls",
            "_model_module_version": "1.5.0",
            "value": 1,
            "_view_count": null,
            "_view_module_version": "1.5.0",
            "orientation": "horizontal",
            "min": 0,
            "description_tooltip": null,
            "_model_module": "@jupyter-widgets/controls",
            "layout": "IPY_MODEL_6c295a33975642ba8763931a4ae548f4"
          }
        },
        "53f22fb2c06741868ad904e04d6863ec": {
          "model_module": "@jupyter-widgets/controls",
          "model_name": "HTMLModel",
          "state": {
            "_view_name": "HTMLView",
            "style": "IPY_MODEL_9c21778c42784bd2aa7912f592245055",
            "_dom_classes": [],
            "description": "",
            "_model_name": "HTMLModel",
            "placeholder": "​",
            "_view_module": "@jupyter-widgets/controls",
            "_model_module_version": "1.5.0",
            "value": " 55120/? [13:36&lt;00:00, 67.52it/s]",
            "_view_count": null,
            "_view_module_version": "1.5.0",
            "description_tooltip": null,
            "_model_module": "@jupyter-widgets/controls",
            "layout": "IPY_MODEL_4909f4c79244427783b0fb3f1a63bc01"
          }
        },
        "3056b8dd28a34287a205504c2d593d31": {
          "model_module": "@jupyter-widgets/controls",
          "model_name": "ProgressStyleModel",
          "state": {
            "_view_name": "StyleView",
            "_model_name": "ProgressStyleModel",
            "description_width": "initial",
            "_view_module": "@jupyter-widgets/base",
            "_model_module_version": "1.5.0",
            "_view_count": null,
            "_view_module_version": "1.2.0",
            "bar_color": null,
            "_model_module": "@jupyter-widgets/controls"
          }
        },
        "6c295a33975642ba8763931a4ae548f4": {
          "model_module": "@jupyter-widgets/base",
          "model_name": "LayoutModel",
          "state": {
            "_view_name": "LayoutView",
            "grid_template_rows": null,
            "right": null,
            "justify_content": null,
            "_view_module": "@jupyter-widgets/base",
            "overflow": null,
            "_model_module_version": "1.2.0",
            "_view_count": null,
            "flex_flow": null,
            "width": null,
            "min_width": null,
            "border": null,
            "align_items": null,
            "bottom": null,
            "_model_module": "@jupyter-widgets/base",
            "top": null,
            "grid_column": null,
            "overflow_y": null,
            "overflow_x": null,
            "grid_auto_flow": null,
            "grid_area": null,
            "grid_template_columns": null,
            "flex": null,
            "_model_name": "LayoutModel",
            "justify_items": null,
            "grid_row": null,
            "max_height": null,
            "align_content": null,
            "visibility": null,
            "align_self": null,
            "height": null,
            "min_height": null,
            "padding": null,
            "grid_auto_rows": null,
            "grid_gap": null,
            "max_width": null,
            "order": null,
            "_view_module_version": "1.2.0",
            "grid_template_areas": null,
            "object_position": null,
            "object_fit": null,
            "grid_auto_columns": null,
            "margin": null,
            "display": null,
            "left": null
          }
        },
        "9c21778c42784bd2aa7912f592245055": {
          "model_module": "@jupyter-widgets/controls",
          "model_name": "DescriptionStyleModel",
          "state": {
            "_view_name": "StyleView",
            "_model_name": "DescriptionStyleModel",
            "description_width": "",
            "_view_module": "@jupyter-widgets/base",
            "_model_module_version": "1.5.0",
            "_view_count": null,
            "_view_module_version": "1.2.0",
            "_model_module": "@jupyter-widgets/controls"
          }
        },
        "4909f4c79244427783b0fb3f1a63bc01": {
          "model_module": "@jupyter-widgets/base",
          "model_name": "LayoutModel",
          "state": {
            "_view_name": "LayoutView",
            "grid_template_rows": null,
            "right": null,
            "justify_content": null,
            "_view_module": "@jupyter-widgets/base",
            "overflow": null,
            "_model_module_version": "1.2.0",
            "_view_count": null,
            "flex_flow": null,
            "width": null,
            "min_width": null,
            "border": null,
            "align_items": null,
            "bottom": null,
            "_model_module": "@jupyter-widgets/base",
            "top": null,
            "grid_column": null,
            "overflow_y": null,
            "overflow_x": null,
            "grid_auto_flow": null,
            "grid_area": null,
            "grid_template_columns": null,
            "flex": null,
            "_model_name": "LayoutModel",
            "justify_items": null,
            "grid_row": null,
            "max_height": null,
            "align_content": null,
            "visibility": null,
            "align_self": null,
            "height": null,
            "min_height": null,
            "padding": null,
            "grid_auto_rows": null,
            "grid_gap": null,
            "max_width": null,
            "order": null,
            "_view_module_version": "1.2.0",
            "grid_template_areas": null,
            "object_position": null,
            "object_fit": null,
            "grid_auto_columns": null,
            "margin": null,
            "display": null,
            "left": null
          }
        }
      }
    }
  },
  "cells": [
    {
      "cell_type": "markdown",
      "metadata": {
        "id": "view-in-github",
        "colab_type": "text"
      },
      "source": [
        "<a href=\"https://colab.research.google.com/github/zanuarts/dicoding-BPML/blob/master/dicoding_17_LastSubmission.ipynb\" target=\"_parent\"><img src=\"https://colab.research.google.com/assets/colab-badge.svg\" alt=\"Open In Colab\"/></a>"
      ]
    },
    {
      "cell_type": "markdown",
      "metadata": {
        "id": "C_7ML7JYBXmD",
        "colab_type": "text"
      },
      "source": [
        "# Malaria Cell Detection"
      ]
    },
    {
      "cell_type": "code",
      "metadata": {
        "id": "8i1ar_8fV6Sl",
        "colab_type": "code",
        "colab": {}
      },
      "source": [
        "import os\n",
        "os.environ['KAGGLE_USERNAME']= # Kaggle Username\n",
        "os.environ['KAGGLE_KEY'] = # Kaggle Key"
      ],
      "execution_count": null,
      "outputs": []
    },
    {
      "cell_type": "markdown",
      "metadata": {
        "id": "wlRCvKCZnGnQ",
        "colab_type": "text"
      },
      "source": [
        "## Download and unzip the Dataset"
      ]
    },
    {
      "cell_type": "code",
      "metadata": {
        "id": "3lNS_09iBLUM",
        "colab_type": "code",
        "colab": {
          "base_uri": "https://localhost:8080/",
          "height": 68
        },
        "outputId": "435d51b3-c2ab-4525-fed4-b21d080ddaf8"
      },
      "source": [
        "!kaggle datasets download -d iarunava/cell-images-for-detecting-malaria"
      ],
      "execution_count": null,
      "outputs": [
        {
          "output_type": "stream",
          "text": [
            "Downloading cell-images-for-detecting-malaria.zip to /content\n",
            "100% 673M/675M [00:07<00:00, 114MB/s] \n",
            "100% 675M/675M [00:07<00:00, 88.7MB/s]\n"
          ],
          "name": "stdout"
        }
      ]
    },
    {
      "cell_type": "code",
      "metadata": {
        "id": "knL1-e-1BQUc",
        "colab_type": "code",
        "colab": {
          "base_uri": "https://localhost:8080/",
          "height": 34
        },
        "outputId": "5665c3bd-578b-4358-83c7-76de62042cb8"
      },
      "source": [
        "import tensorflow as tf\n",
        "from tensorflow.keras.optimizers import RMSprop\n",
        "from tensorflow.keras.preprocessing.image import ImageDataGenerator \n",
        "\n",
        "print(tf.__version__)"
      ],
      "execution_count": null,
      "outputs": [
        {
          "output_type": "stream",
          "text": [
            "2.3.0\n"
          ],
          "name": "stdout"
        }
      ]
    },
    {
      "cell_type": "code",
      "metadata": {
        "id": "Uf6VFZNNBoRT",
        "colab_type": "code",
        "colab": {}
      },
      "source": [
        "import zipfile\n",
        "\n",
        "local_zip = '/content/cell-images-for-detecting-malaria.zip'\n",
        "zip_ref = zipfile.ZipFile(local_zip, 'r')\n",
        "zip_ref.extractall('/content/')\n",
        "zip_ref.close()"
      ],
      "execution_count": null,
      "outputs": []
    },
    {
      "cell_type": "markdown",
      "metadata": {
        "id": "j_zIWmTanjEn",
        "colab_type": "text"
      },
      "source": [
        "## Split Dataset"
      ]
    },
    {
      "cell_type": "code",
      "metadata": {
        "id": "KjDCUoaZCHGO",
        "colab_type": "code",
        "colab": {}
      },
      "source": [
        "mypath = '/content/cell_images'"
      ],
      "execution_count": null,
      "outputs": []
    },
    {
      "cell_type": "code",
      "metadata": {
        "id": "tSrOE4znC_U9",
        "colab_type": "code",
        "colab": {}
      },
      "source": [
        "file_name = []\n",
        "tag = []\n",
        "full_path = []\n",
        "for path, subdirs, files in os.walk(mypath):\n",
        "    for name in files:\n",
        "        full_path.append(os.path.join(path, name)) \n",
        "        tag.append(path.split('/')[-1])        \n",
        "        file_name.append(name)"
      ],
      "execution_count": null,
      "outputs": []
    },
    {
      "cell_type": "code",
      "metadata": {
        "id": "A_M7JVh_DDCE",
        "colab_type": "code",
        "colab": {}
      },
      "source": [
        "import pandas as pd"
      ],
      "execution_count": null,
      "outputs": []
    },
    {
      "cell_type": "code",
      "metadata": {
        "id": "hvhkdB6zDFLF",
        "colab_type": "code",
        "colab": {
          "base_uri": "https://localhost:8080/",
          "height": 85
        },
        "outputId": "a7daf57f-824d-49d8-a8a4-71557b60daea"
      },
      "source": [
        "df = pd.DataFrame({\"path\":full_path,'file_name':file_name,\"tag\":tag})\n",
        "df.groupby(['tag']).size()"
      ],
      "execution_count": null,
      "outputs": [
        {
          "output_type": "execute_result",
          "data": {
            "text/plain": [
              "tag\n",
              "Parasitized    27560\n",
              "Uninfected     27560\n",
              "dtype: int64"
            ]
          },
          "metadata": {
            "tags": []
          },
          "execution_count": 9
        }
      ]
    },
    {
      "cell_type": "code",
      "metadata": {
        "id": "0pUOLp8BDSgE",
        "colab_type": "code",
        "colab": {
          "base_uri": "https://localhost:8080/",
          "height": 439
        },
        "outputId": "082005f8-f434-4d8e-cd6f-31c76a611816"
      },
      "source": [
        "df"
      ],
      "execution_count": null,
      "outputs": [
        {
          "output_type": "execute_result",
          "data": {
            "text/html": [
              "<div>\n",
              "<style scoped>\n",
              "    .dataframe tbody tr th:only-of-type {\n",
              "        vertical-align: middle;\n",
              "    }\n",
              "\n",
              "    .dataframe tbody tr th {\n",
              "        vertical-align: top;\n",
              "    }\n",
              "\n",
              "    .dataframe thead th {\n",
              "        text-align: right;\n",
              "    }\n",
              "</style>\n",
              "<table border=\"1\" class=\"dataframe\">\n",
              "  <thead>\n",
              "    <tr style=\"text-align: right;\">\n",
              "      <th></th>\n",
              "      <th>path</th>\n",
              "      <th>file_name</th>\n",
              "      <th>tag</th>\n",
              "    </tr>\n",
              "  </thead>\n",
              "  <tbody>\n",
              "    <tr>\n",
              "      <th>0</th>\n",
              "      <td>/content/cell_images/Uninfected/C166P127ThinF_...</td>\n",
              "      <td>C166P127ThinF_IMG_20151117_194410_cell_61.png</td>\n",
              "      <td>Uninfected</td>\n",
              "    </tr>\n",
              "    <tr>\n",
              "      <th>1</th>\n",
              "      <td>/content/cell_images/Uninfected/C81P42ThinF_IM...</td>\n",
              "      <td>C81P42ThinF_IMG_20150817_115942_cell_84.png</td>\n",
              "      <td>Uninfected</td>\n",
              "    </tr>\n",
              "    <tr>\n",
              "      <th>2</th>\n",
              "      <td>/content/cell_images/Uninfected/C113P74ThinF_I...</td>\n",
              "      <td>C113P74ThinF_IMG_20150930_135904_cell_147.png</td>\n",
              "      <td>Uninfected</td>\n",
              "    </tr>\n",
              "    <tr>\n",
              "      <th>3</th>\n",
              "      <td>/content/cell_images/Uninfected/C59P20thinF_IM...</td>\n",
              "      <td>C59P20thinF_IMG_20150803_112733_cell_2.png</td>\n",
              "      <td>Uninfected</td>\n",
              "    </tr>\n",
              "    <tr>\n",
              "      <th>4</th>\n",
              "      <td>/content/cell_images/Uninfected/C81P42ThinF_IM...</td>\n",
              "      <td>C81P42ThinF_IMG_20150817_120351_cell_177.png</td>\n",
              "      <td>Uninfected</td>\n",
              "    </tr>\n",
              "    <tr>\n",
              "      <th>...</th>\n",
              "      <td>...</td>\n",
              "      <td>...</td>\n",
              "      <td>...</td>\n",
              "    </tr>\n",
              "    <tr>\n",
              "      <th>55115</th>\n",
              "      <td>/content/cell_images/Parasitized/C111P72ThinF_...</td>\n",
              "      <td>C111P72ThinF_IMG_20150930_112827_cell_176.png</td>\n",
              "      <td>Parasitized</td>\n",
              "    </tr>\n",
              "    <tr>\n",
              "      <th>55116</th>\n",
              "      <td>/content/cell_images/Parasitized/C154P115ThinF...</td>\n",
              "      <td>C154P115ThinF_IMG_20151115_141336_cell_234.png</td>\n",
              "      <td>Parasitized</td>\n",
              "    </tr>\n",
              "    <tr>\n",
              "      <th>55117</th>\n",
              "      <td>/content/cell_images/Parasitized/C183P144NThin...</td>\n",
              "      <td>C183P144NThinF_IMG_20151201_223758_cell_138.png</td>\n",
              "      <td>Parasitized</td>\n",
              "    </tr>\n",
              "    <tr>\n",
              "      <th>55118</th>\n",
              "      <td>/content/cell_images/Parasitized/C59P20thinF_I...</td>\n",
              "      <td>C59P20thinF_IMG_20150803_113051_cell_151.png</td>\n",
              "      <td>Parasitized</td>\n",
              "    </tr>\n",
              "    <tr>\n",
              "      <th>55119</th>\n",
              "      <td>/content/cell_images/Parasitized/C182P143NThin...</td>\n",
              "      <td>C182P143NThinF_IMG_20151201_171836_cell_147.png</td>\n",
              "      <td>Parasitized</td>\n",
              "    </tr>\n",
              "  </tbody>\n",
              "</table>\n",
              "<p>55120 rows × 3 columns</p>\n",
              "</div>"
            ],
            "text/plain": [
              "                                                    path  ...          tag\n",
              "0      /content/cell_images/Uninfected/C166P127ThinF_...  ...   Uninfected\n",
              "1      /content/cell_images/Uninfected/C81P42ThinF_IM...  ...   Uninfected\n",
              "2      /content/cell_images/Uninfected/C113P74ThinF_I...  ...   Uninfected\n",
              "3      /content/cell_images/Uninfected/C59P20thinF_IM...  ...   Uninfected\n",
              "4      /content/cell_images/Uninfected/C81P42ThinF_IM...  ...   Uninfected\n",
              "...                                                  ...  ...          ...\n",
              "55115  /content/cell_images/Parasitized/C111P72ThinF_...  ...  Parasitized\n",
              "55116  /content/cell_images/Parasitized/C154P115ThinF...  ...  Parasitized\n",
              "55117  /content/cell_images/Parasitized/C183P144NThin...  ...  Parasitized\n",
              "55118  /content/cell_images/Parasitized/C59P20thinF_I...  ...  Parasitized\n",
              "55119  /content/cell_images/Parasitized/C182P143NThin...  ...  Parasitized\n",
              "\n",
              "[55120 rows x 3 columns]"
            ]
          },
          "metadata": {
            "tags": []
          },
          "execution_count": 10
        }
      ]
    },
    {
      "cell_type": "code",
      "metadata": {
        "id": "rseezOKhDZjU",
        "colab_type": "code",
        "colab": {}
      },
      "source": [
        "from sklearn.model_selection import train_test_split"
      ],
      "execution_count": null,
      "outputs": []
    },
    {
      "cell_type": "code",
      "metadata": {
        "id": "_yOXIHUvDfx0",
        "colab_type": "code",
        "colab": {}
      },
      "source": [
        "X= df['path']\n",
        "y= df['tag']"
      ],
      "execution_count": null,
      "outputs": []
    },
    {
      "cell_type": "code",
      "metadata": {
        "id": "Ajygn_tNDgUc",
        "colab_type": "code",
        "colab": {}
      },
      "source": [
        "X_train, X_val, y_train, y_val = train_test_split(\n",
        "    X, y, test_size=0.20, random_state=300)"
      ],
      "execution_count": null,
      "outputs": []
    },
    {
      "cell_type": "code",
      "metadata": {
        "id": "DnsXvKYjDimb",
        "colab_type": "code",
        "colab": {}
      },
      "source": [
        "df_val = pd.DataFrame({'path':X_val\n",
        "              ,'tag':y_val\n",
        "             ,'set':'validation-set'})\n",
        "\n",
        "df_tr = pd.DataFrame({'path':X_train\n",
        "              ,'tag':y_train\n",
        "             ,'set':'train-set'})"
      ],
      "execution_count": null,
      "outputs": []
    },
    {
      "cell_type": "code",
      "metadata": {
        "id": "TXZ4OCfDDpKD",
        "colab_type": "code",
        "colab": {
          "base_uri": "https://localhost:8080/",
          "height": 51
        },
        "outputId": "1ddb7ba8-66fe-498b-baba-da879495f91c"
      },
      "source": [
        "print('train size', len(df_tr))\n",
        "print('val size', len(df_val))"
      ],
      "execution_count": null,
      "outputs": [
        {
          "output_type": "stream",
          "text": [
            "train size 44096\n",
            "val size 11024\n"
          ],
          "name": "stdout"
        }
      ]
    },
    {
      "cell_type": "code",
      "metadata": {
        "id": "yTzGP40oDvyr",
        "colab_type": "code",
        "colab": {
          "base_uri": "https://localhost:8080/",
          "height": 360
        },
        "outputId": "769892d2-6849-4e83-edd4-d0bd18644147"
      },
      "source": [
        "df_all = df_tr.append([df_val]).reset_index(drop=1)\\\n",
        "\n",
        "print('===================================================== \\n')\n",
        "print(df_all.groupby(['set','tag']).size(),'\\n')\n",
        "\n",
        "print('===================================================== \\n')\n",
        "\n",
        "df_all.sample(4)"
      ],
      "execution_count": null,
      "outputs": [
        {
          "output_type": "stream",
          "text": [
            "===================================================== \n",
            "\n",
            "set             tag        \n",
            "train-set       Parasitized    22053\n",
            "                Uninfected     22043\n",
            "validation-set  Parasitized     5507\n",
            "                Uninfected      5517\n",
            "dtype: int64 \n",
            "\n",
            "===================================================== \n",
            "\n"
          ],
          "name": "stdout"
        },
        {
          "output_type": "execute_result",
          "data": {
            "text/html": [
              "<div>\n",
              "<style scoped>\n",
              "    .dataframe tbody tr th:only-of-type {\n",
              "        vertical-align: middle;\n",
              "    }\n",
              "\n",
              "    .dataframe tbody tr th {\n",
              "        vertical-align: top;\n",
              "    }\n",
              "\n",
              "    .dataframe thead th {\n",
              "        text-align: right;\n",
              "    }\n",
              "</style>\n",
              "<table border=\"1\" class=\"dataframe\">\n",
              "  <thead>\n",
              "    <tr style=\"text-align: right;\">\n",
              "      <th></th>\n",
              "      <th>path</th>\n",
              "      <th>tag</th>\n",
              "      <th>set</th>\n",
              "    </tr>\n",
              "  </thead>\n",
              "  <tbody>\n",
              "    <tr>\n",
              "      <th>983</th>\n",
              "      <td>/content/cell_images/Parasitized/C118P79ThinF_...</td>\n",
              "      <td>Parasitized</td>\n",
              "      <td>train-set</td>\n",
              "    </tr>\n",
              "    <tr>\n",
              "      <th>27934</th>\n",
              "      <td>/content/cell_images/cell_images/Parasitized/C...</td>\n",
              "      <td>Parasitized</td>\n",
              "      <td>train-set</td>\n",
              "    </tr>\n",
              "    <tr>\n",
              "      <th>45470</th>\n",
              "      <td>/content/cell_images/Uninfected/C50P11thinF_IM...</td>\n",
              "      <td>Uninfected</td>\n",
              "      <td>validation-set</td>\n",
              "    </tr>\n",
              "    <tr>\n",
              "      <th>925</th>\n",
              "      <td>/content/cell_images/Parasitized/C182P143NThin...</td>\n",
              "      <td>Parasitized</td>\n",
              "      <td>train-set</td>\n",
              "    </tr>\n",
              "  </tbody>\n",
              "</table>\n",
              "</div>"
            ],
            "text/plain": [
              "                                                    path  ...             set\n",
              "983    /content/cell_images/Parasitized/C118P79ThinF_...  ...       train-set\n",
              "27934  /content/cell_images/cell_images/Parasitized/C...  ...       train-set\n",
              "45470  /content/cell_images/Uninfected/C50P11thinF_IM...  ...  validation-set\n",
              "925    /content/cell_images/Parasitized/C182P143NThin...  ...       train-set\n",
              "\n",
              "[4 rows x 3 columns]"
            ]
          },
          "metadata": {
            "tags": []
          },
          "execution_count": 18
        }
      ]
    },
    {
      "cell_type": "markdown",
      "metadata": {
        "id": "FIK6gUGMoH-n",
        "colab_type": "text"
      },
      "source": [
        "## Move the dataset"
      ]
    },
    {
      "cell_type": "code",
      "metadata": {
        "id": "WEDV9NL7D4mU",
        "colab_type": "code",
        "colab": {}
      },
      "source": [
        "# !rm -rf /tmp/dataset/"
      ],
      "execution_count": null,
      "outputs": []
    },
    {
      "cell_type": "code",
      "metadata": {
        "id": "7AbjzvL1EDH0",
        "colab_type": "code",
        "colab": {}
      },
      "source": [
        "import shutil\n",
        "from tqdm.notebook import tqdm as tq"
      ],
      "execution_count": null,
      "outputs": []
    },
    {
      "cell_type": "code",
      "metadata": {
        "id": "stEQq6szEFCF",
        "colab_type": "code",
        "colab": {}
      },
      "source": [
        "datasource_path = \"/content/cell_images/\"\n",
        "dataset_path = \"/content/dataset\""
      ],
      "execution_count": null,
      "outputs": []
    },
    {
      "cell_type": "code",
      "metadata": {
        "id": "fo0fVuWpERYU",
        "colab_type": "code",
        "colab": {
          "base_uri": "https://localhost:8080/",
          "height": 66,
          "referenced_widgets": [
            "ce2ad4b208de4a96a12d80a055619cd0",
            "aab376979d894eb291bbcceae9974c47",
            "d920340888444f87be8712313014bbfd",
            "53f22fb2c06741868ad904e04d6863ec",
            "3056b8dd28a34287a205504c2d593d31",
            "6c295a33975642ba8763931a4ae548f4",
            "9c21778c42784bd2aa7912f592245055",
            "4909f4c79244427783b0fb3f1a63bc01"
          ]
        },
        "outputId": "97e841c1-8499-42fd-ef03-0bcd66d71fa9"
      },
      "source": [
        "for index, row in tq(df_all.iterrows()):\n",
        "    \n",
        "    file_path = row['path']\n",
        "    if os.path.exists(file_path) == False:\n",
        "            file_path = os.path.join(datasource_path,row['tag'],row['image'].split('.')[0])            \n",
        "    \n",
        "    if os.path.exists(os.path.join(dataset_path,row['set'],row['tag'])) == False:\n",
        "        os.makedirs(os.path.join(dataset_path,row['set'],row['tag']))\n",
        "\n",
        "    destination_file_name = file_path.split('/')[-1]\n",
        "    file_dest = os.path.join(dataset_path,row['set'],row['tag'],destination_file_name)\n",
        "    \n",
        "    if os.path.exists(file_dest) == False:\n",
        "        shutil.copy2(file_path,file_dest)"
      ],
      "execution_count": null,
      "outputs": [
        {
          "output_type": "display_data",
          "data": {
            "application/vnd.jupyter.widget-view+json": {
              "model_id": "ce2ad4b208de4a96a12d80a055619cd0",
              "version_minor": 0,
              "version_major": 2
            },
            "text/plain": [
              "HBox(children=(FloatProgress(value=1.0, bar_style='info', max=1.0), HTML(value='')))"
            ]
          },
          "metadata": {
            "tags": []
          }
        },
        {
          "output_type": "stream",
          "text": [
            "\n"
          ],
          "name": "stdout"
        }
      ]
    },
    {
      "cell_type": "markdown",
      "metadata": {
        "id": "vhehvFfTodQ_",
        "colab_type": "text"
      },
      "source": [
        "## Image Augmentation"
      ]
    },
    {
      "cell_type": "code",
      "metadata": {
        "id": "mXgN5grjEVQc",
        "colab_type": "code",
        "colab": {}
      },
      "source": [
        "base_dir = '/content/dataset/'\n",
        "train_dir = os.path.join(base_dir,'train-set')\n",
        "validation_dir = os.path.join(base_dir,'validation-set')"
      ],
      "execution_count": null,
      "outputs": []
    },
    {
      "cell_type": "code",
      "metadata": {
        "id": "7mNhEPyaqQqI",
        "colab_type": "code",
        "colab": {
          "base_uri": "https://localhost:8080/",
          "height": 34
        },
        "outputId": "11b553d4-0e71-45ef-e63b-4a50f8634e51"
      },
      "source": [
        "os.listdir(train_dir)"
      ],
      "execution_count": null,
      "outputs": [
        {
          "output_type": "execute_result",
          "data": {
            "text/plain": [
              "['Uninfected', 'Parasitized']"
            ]
          },
          "metadata": {
            "tags": []
          },
          "execution_count": 50
        }
      ]
    },
    {
      "cell_type": "code",
      "metadata": {
        "id": "rnChutQiqUVN",
        "colab_type": "code",
        "colab": {
          "base_uri": "https://localhost:8080/",
          "height": 34
        },
        "outputId": "68927c5f-4459-4610-869f-e8a83fabdf41"
      },
      "source": [
        "os.listdir(validation_dir)"
      ],
      "execution_count": null,
      "outputs": [
        {
          "output_type": "execute_result",
          "data": {
            "text/plain": [
              "['Uninfected', 'Parasitized']"
            ]
          },
          "metadata": {
            "tags": []
          },
          "execution_count": 51
        }
      ]
    },
    {
      "cell_type": "code",
      "metadata": {
        "id": "8XqVKbJXqVKO",
        "colab_type": "code",
        "colab": {}
      },
      "source": [
        "train_uninfected_dir = os.path.join(train_dir, 'Uninfected')\n",
        "train_parasitized_dir = os.path.join(train_dir, 'Parasitized')\n",
        "validation_uninfected_dir = os.path.join(validation_dir, 'Uninfected')\n",
        "validation_parasitized_dir = os.path.join(validation_dir, 'Parasitized')"
      ],
      "execution_count": null,
      "outputs": []
    },
    {
      "cell_type": "code",
      "metadata": {
        "id": "SJL3V20sqmh3",
        "colab_type": "code",
        "colab": {
          "base_uri": "https://localhost:8080/",
          "height": 51
        },
        "outputId": "16c261d2-7530-4340-ede3-3e90d1bb3121"
      },
      "source": [
        "train_datagen = ImageDataGenerator(\n",
        "    rescale = 1./255,\n",
        "    rotation_range = 90,\n",
        "    width_shift_range=0.2,\n",
        "    height_shift_range=0.2,\n",
        "    shear_range=0.2,\n",
        "    zoom_range=0.2,\n",
        "    horizontal_flip=True,\n",
        "    fill_mode='nearest'\n",
        ")\n",
        "validation_datagen = ImageDataGenerator(\n",
        "    rescale = 1./255\n",
        ")\n",
        "train_generator = train_datagen.flow_from_directory(\n",
        "    train_dir,\n",
        "    target_size = (128,128),\n",
        "    batch_size = 32,\n",
        "    class_mode = 'binary'\n",
        ")\n",
        "\n",
        "validation_generator = validation_datagen.flow_from_directory(\n",
        "    validation_dir,\n",
        "    target_size = (128,128),\n",
        "    batch_size = 32,\n",
        "    class_mode = 'binary'\n",
        ")"
      ],
      "execution_count": null,
      "outputs": [
        {
          "output_type": "stream",
          "text": [
            "Found 26440 images belonging to 2 classes.\n",
            "Found 9905 images belonging to 2 classes.\n"
          ],
          "name": "stdout"
        }
      ]
    },
    {
      "cell_type": "markdown",
      "metadata": {
        "id": "li1MuOyXqyTl",
        "colab_type": "text"
      },
      "source": [
        "## Build Model"
      ]
    },
    {
      "cell_type": "code",
      "metadata": {
        "id": "N0_gyAD0qwk9",
        "colab_type": "code",
        "colab": {
          "base_uri": "https://localhost:8080/",
          "height": 561
        },
        "outputId": "16a19f5a-ebcd-4b3d-8264-27f5533c287b"
      },
      "source": [
        "model = tf.keras.models.Sequential([\n",
        "    tf.keras.layers.Conv2D(64, (3,3), activation = 'relu', input_shape=(128, 128, 3)),\n",
        "    tf.keras.layers.MaxPool2D(2,2),\n",
        "    \n",
        "    tf.keras.layers.Conv2D(64, (3,3), activation = 'relu'),\n",
        "    tf.keras.layers.MaxPool2D(2,2),\n",
        "    \n",
        "    tf.keras.layers.Conv2D(128,(3,3), activation = 'relu'),\n",
        "    tf.keras.layers.MaxPool2D(2,2),\n",
        "\n",
        "    tf.keras.layers.Conv2D(128,(3,3), activation = 'relu'),\n",
        "    tf.keras.layers.MaxPool2D(2,2),\n",
        "    \n",
        "    tf.keras.layers.Flatten(),\n",
        "    tf.keras.layers.Dropout(0.5),\n",
        "    tf.keras.layers.Dense(512, activation='relu'),\n",
        "    tf.keras.layers.Dense(1, activation='sigmoid')\n",
        "])\n",
        "\n",
        "model.summary()"
      ],
      "execution_count": null,
      "outputs": [
        {
          "output_type": "stream",
          "text": [
            "Model: \"sequential_5\"\n",
            "_________________________________________________________________\n",
            "Layer (type)                 Output Shape              Param #   \n",
            "=================================================================\n",
            "conv2d_17 (Conv2D)           (None, 126, 126, 64)      1792      \n",
            "_________________________________________________________________\n",
            "max_pooling2d_17 (MaxPooling (None, 63, 63, 64)        0         \n",
            "_________________________________________________________________\n",
            "conv2d_18 (Conv2D)           (None, 61, 61, 64)        36928     \n",
            "_________________________________________________________________\n",
            "max_pooling2d_18 (MaxPooling (None, 30, 30, 64)        0         \n",
            "_________________________________________________________________\n",
            "conv2d_19 (Conv2D)           (None, 28, 28, 128)       73856     \n",
            "_________________________________________________________________\n",
            "max_pooling2d_19 (MaxPooling (None, 14, 14, 128)       0         \n",
            "_________________________________________________________________\n",
            "conv2d_20 (Conv2D)           (None, 12, 12, 128)       147584    \n",
            "_________________________________________________________________\n",
            "max_pooling2d_20 (MaxPooling (None, 6, 6, 128)         0         \n",
            "_________________________________________________________________\n",
            "flatten_5 (Flatten)          (None, 4608)              0         \n",
            "_________________________________________________________________\n",
            "dropout_5 (Dropout)          (None, 4608)              0         \n",
            "_________________________________________________________________\n",
            "dense_10 (Dense)             (None, 512)               2359808   \n",
            "_________________________________________________________________\n",
            "dense_11 (Dense)             (None, 1)                 513       \n",
            "=================================================================\n",
            "Total params: 2,620,481\n",
            "Trainable params: 2,620,481\n",
            "Non-trainable params: 0\n",
            "_________________________________________________________________\n"
          ],
          "name": "stdout"
        }
      ]
    },
    {
      "cell_type": "code",
      "metadata": {
        "id": "bKcJxMY7rwTt",
        "colab_type": "code",
        "colab": {}
      },
      "source": [
        "class myCallback(tf.keras.callbacks.Callback):\n",
        "  def on_epoch_end(self, epoch, logs={}):\n",
        "    if(logs.get('accuracy')>0.92):\n",
        "      print(\"\\nAkurasi mencapai 92%, train data diberhentikan !\")\n",
        "      self.model.stop_training = True\n",
        "\n",
        "callbacks = myCallback()"
      ],
      "execution_count": null,
      "outputs": []
    },
    {
      "cell_type": "code",
      "metadata": {
        "id": "nAb7CV62riVQ",
        "colab_type": "code",
        "colab": {
          "base_uri": "https://localhost:8080/",
          "height": 819
        },
        "outputId": "29b228c5-3a98-4cbb-abd2-c63915d09535"
      },
      "source": [
        "model.compile(\n",
        "    optimizer = 'adam',\n",
        "    loss = 'binary_crossentropy',\n",
        "    metrics = ['accuracy']\n",
        ")\n",
        "\n",
        "history = model.fit(\n",
        "    train_generator,\n",
        "    steps_per_epoch = 20,\n",
        "    epochs = 25,\n",
        "    validation_data = validation_generator,\n",
        "    validation_steps = 3,\n",
        "    verbose = 1,\n",
        "    callbacks = [callbacks]\n",
        ")"
      ],
      "execution_count": null,
      "outputs": [
        {
          "output_type": "stream",
          "text": [
            "Epoch 1/25\n",
            "20/20 [==============================] - 30s 2s/step - loss: 0.7167 - accuracy: 0.5109 - val_loss: 0.6862 - val_accuracy: 0.5625\n",
            "Epoch 2/25\n",
            "20/20 [==============================] - 30s 1s/step - loss: 0.6958 - accuracy: 0.4609 - val_loss: 0.6933 - val_accuracy: 0.4792\n",
            "Epoch 3/25\n",
            "20/20 [==============================] - 30s 1s/step - loss: 0.6920 - accuracy: 0.5281 - val_loss: 0.6910 - val_accuracy: 0.4896\n",
            "Epoch 4/25\n",
            "20/20 [==============================] - 30s 1s/step - loss: 0.6916 - accuracy: 0.5234 - val_loss: 0.6771 - val_accuracy: 0.5625\n",
            "Epoch 5/25\n",
            "20/20 [==============================] - 30s 1s/step - loss: 0.6939 - accuracy: 0.5016 - val_loss: 0.6901 - val_accuracy: 0.5000\n",
            "Epoch 6/25\n",
            "20/20 [==============================] - 30s 1s/step - loss: 0.6783 - accuracy: 0.5797 - val_loss: 0.6396 - val_accuracy: 0.6979\n",
            "Epoch 7/25\n",
            "20/20 [==============================] - 30s 1s/step - loss: 0.6926 - accuracy: 0.5359 - val_loss: 0.6814 - val_accuracy: 0.6250\n",
            "Epoch 8/25\n",
            "20/20 [==============================] - 30s 1s/step - loss: 0.6738 - accuracy: 0.6391 - val_loss: 0.6696 - val_accuracy: 0.6458\n",
            "Epoch 9/25\n",
            "20/20 [==============================] - 29s 1s/step - loss: 0.6342 - accuracy: 0.7172 - val_loss: 0.5046 - val_accuracy: 0.9062\n",
            "Epoch 10/25\n",
            "20/20 [==============================] - 29s 1s/step - loss: 0.6020 - accuracy: 0.7188 - val_loss: 0.6479 - val_accuracy: 0.6562\n",
            "Epoch 11/25\n",
            "20/20 [==============================] - 30s 1s/step - loss: 0.5990 - accuracy: 0.7031 - val_loss: 0.4092 - val_accuracy: 0.8333\n",
            "Epoch 12/25\n",
            "20/20 [==============================] - 29s 1s/step - loss: 0.4559 - accuracy: 0.8125 - val_loss: 0.4794 - val_accuracy: 0.7708\n",
            "Epoch 13/25\n",
            "20/20 [==============================] - 29s 1s/step - loss: 0.3278 - accuracy: 0.8781 - val_loss: 0.5883 - val_accuracy: 0.8854\n",
            "Epoch 14/25\n",
            "20/20 [==============================] - 32s 2s/step - loss: 0.2165 - accuracy: 0.9125 - val_loss: 0.0662 - val_accuracy: 0.9896\n",
            "Epoch 15/25\n",
            "20/20 [==============================] - 30s 1s/step - loss: 0.2990 - accuracy: 0.9062 - val_loss: 0.3103 - val_accuracy: 0.9062\n",
            "Epoch 16/25\n",
            "20/20 [==============================] - 30s 1s/step - loss: 0.3012 - accuracy: 0.9078 - val_loss: 0.1769 - val_accuracy: 0.9375\n",
            "Epoch 17/25\n",
            "20/20 [==============================] - 30s 1s/step - loss: 0.3186 - accuracy: 0.8922 - val_loss: 0.2712 - val_accuracy: 0.9375\n",
            "Epoch 18/25\n",
            "20/20 [==============================] - 30s 1s/step - loss: 0.3075 - accuracy: 0.8969 - val_loss: 0.2303 - val_accuracy: 0.9062\n",
            "Epoch 19/25\n",
            "20/20 [==============================] - 30s 1s/step - loss: 0.2639 - accuracy: 0.8969 - val_loss: 0.1527 - val_accuracy: 0.9583\n",
            "Epoch 20/25\n",
            "20/20 [==============================] - 30s 1s/step - loss: 0.3130 - accuracy: 0.8969 - val_loss: 0.2241 - val_accuracy: 0.9375\n",
            "Epoch 21/25\n",
            "20/20 [==============================] - 30s 1s/step - loss: 0.2552 - accuracy: 0.8953 - val_loss: 0.3145 - val_accuracy: 0.7812\n",
            "Epoch 22/25\n",
            "20/20 [==============================] - ETA: 0s - loss: 0.2328 - accuracy: 0.9250\n",
            "Akurasi mencapai 92%, train data diberhentikan !\n",
            "20/20 [==============================] - 30s 1s/step - loss: 0.2328 - accuracy: 0.9250 - val_loss: 0.2006 - val_accuracy: 0.9375\n"
          ],
          "name": "stdout"
        }
      ]
    },
    {
      "cell_type": "markdown",
      "metadata": {
        "id": "vIzeGLFI7ZXN",
        "colab_type": "text"
      },
      "source": [
        "## Plot loss and Accuracy"
      ]
    },
    {
      "cell_type": "code",
      "metadata": {
        "id": "fhQJOldX7YsQ",
        "colab_type": "code",
        "colab": {
          "base_uri": "https://localhost:8080/",
          "height": 545
        },
        "outputId": "2de616fa-05ea-47fc-936a-b7881f9ce627"
      },
      "source": [
        "import matplotlib.pyplot as plt\n",
        "acc = history.history['accuracy']\n",
        "val_acc = history.history['val_accuracy']\n",
        "loss = history.history['loss']\n",
        "val_loss = history.history['val_loss']\n",
        "\n",
        "epochs = range(len(acc))\n",
        "\n",
        "plt.plot(epochs, acc, 'r', label='Training accuracy')\n",
        "plt.plot(epochs, val_acc, 'b', label='Validation accuracy')\n",
        "plt.title('Training and validation accuracy')\n",
        "plt.legend()\n",
        "plt.figure()\n",
        "\n",
        "plt.plot(epochs, loss, 'r', label='Training Loss')\n",
        "plt.plot(epochs, val_loss, 'b', label='Validation Loss')\n",
        "plt.title('Training and validation loss')\n",
        "plt.legend()\n",
        "\n",
        "plt.show()"
      ],
      "execution_count": null,
      "outputs": [
        {
          "output_type": "display_data",
          "data": {
            "image/png": "[encoded data removed]",
            "text/plain": [
              "<Figure size 432x288 with 1 Axes>"
            ]
          },
          "metadata": {
            "tags": [],
            "needs_background": "light"
          }
        },
        {
          "output_type": "display_data",
          "data": {
            "image/png": "[encoded data removed]",
            "text/plain": [
              "<Figure size 432x288 with 1 Axes>"
            ]
          },
          "metadata": {
            "tags": [],
            "needs_background": "light"
          }
        }
      ]
    },
    {
      "cell_type": "markdown",
      "metadata": {
        "id": "zm3HynR28Ii7",
        "colab_type": "text"
      },
      "source": [
        "## Model TF-Lite"
      ]
    },
    {
      "cell_type": "code",
      "metadata": {
        "id": "eiAQaOqm8FMr",
        "colab_type": "code",
        "colab": {
          "base_uri": "https://localhost:8080/",
          "height": 156
        },
        "outputId": "c3a0b236-d5d7-4424-c5d4-ce6a62afdd45"
      },
      "source": [
        "converter = tf.lite.TFLiteConverter.from_keras_model(model)\n",
        "tflite_model = converter.convert()"
      ],
      "execution_count": null,
      "outputs": [
        {
          "output_type": "stream",
          "text": [
            "WARNING:tensorflow:From /usr/local/lib/python3.6/dist-packages/tensorflow/python/training/tracking/tracking.py:111: Model.state_updates (from tensorflow.python.keras.engine.training) is deprecated and will be removed in a future version.\n",
            "Instructions for updating:\n",
            "This property should not be used in TensorFlow 2.0, as updates are applied automatically.\n",
            "WARNING:tensorflow:From /usr/local/lib/python3.6/dist-packages/tensorflow/python/training/tracking/tracking.py:111: Layer.updates (from tensorflow.python.keras.engine.base_layer) is deprecated and will be removed in a future version.\n",
            "Instructions for updating:\n",
            "This property should not be used in TensorFlow 2.0, as updates are applied automatically.\n",
            "INFO:tensorflow:Assets written to: /tmp/tmpy_g18cin/assets\n"
          ],
          "name": "stdout"
        }
      ]
    },
    {
      "cell_type": "code",
      "metadata": {
        "id": "B-SLTY7w8bwM",
        "colab_type": "code",
        "colab": {}
      },
      "source": [
        "with tf.io.gfile.GFile('model.tflite', 'wb') as f:\n",
        "    f.write(tflite_model)"
      ],
      "execution_count": null,
      "outputs": []
    }
  ]
}